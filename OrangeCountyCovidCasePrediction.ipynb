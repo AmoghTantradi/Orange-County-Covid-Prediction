{
  "nbformat": 4,
  "nbformat_minor": 0,
  "metadata": {
    "colab": {
      "name": "OrangeCountyCovidCasePrediction.ipynb",
      "provenance": [],
      "collapsed_sections": [],
      "authorship_tag": "ABX9TyM79qgO3jht+xCm6IPluO/T"
    },
    "kernelspec": {
      "name": "python3",
      "display_name": "Python 3"
    }
  },
  "cells": [
    {
      "cell_type": "code",
      "metadata": {
        "id": "wtWWjf8CkqOV",
        "colab_type": "code",
        "colab": {}
      },
      "source": [
        "import pandas as pd\n",
        "import urllib.request"
      ],
      "execution_count": 1028,
      "outputs": []
    },
    {
      "cell_type": "code",
      "metadata": {
        "id": "uMc0885_k1lF",
        "colab_type": "code",
        "colab": {}
      },
      "source": [
        "url = ('https://opendata.arcgis.com/datasets/e5ceebe7edba44cc8f875ca54cc2341a_0/FeatureServer/0/query?outFields=*&where=1%3D1')"
      ],
      "execution_count": 1029,
      "outputs": []
    },
    {
      "cell_type": "code",
      "metadata": {
        "id": "XNZJ0xYBktp7",
        "colab_type": "code",
        "colab": {}
      },
      "source": [
        "with urllib.request.urlopen(url) as response:\n",
        "  my_json = response.read()"
      ],
      "execution_count": 1030,
      "outputs": []
    },
    {
      "cell_type": "code",
      "metadata": {
        "id": "H3PpsVrUngbV",
        "colab_type": "code",
        "colab": {}
      },
      "source": [
        "from pandas import DataFrame\n",
        "import json"
      ],
      "execution_count": 1031,
      "outputs": []
    },
    {
      "cell_type": "code",
      "metadata": {
        "id": "NLU_36DbnkPt",
        "colab_type": "code",
        "colab": {}
      },
      "source": [
        "data = json.loads(my_json)\n",
        "data['features']\n",
        "\n",
        "refactored_data = []\n",
        "\n",
        "for attribute in data['features']:\n",
        "  refactored_data.append(attribute['attributes'])\n"
      ],
      "execution_count": 1032,
      "outputs": []
    },
    {
      "cell_type": "code",
      "metadata": {
        "id": "DYWbqb3-n-0F",
        "colab_type": "code",
        "colab": {}
      },
      "source": [
        "df = DataFrame(refactored_data)"
      ],
      "execution_count": 1033,
      "outputs": []
    },
    {
      "cell_type": "code",
      "metadata": {
        "id": "Xv9nVE8SAynS",
        "colab_type": "code",
        "colab": {
          "base_uri": "https://localhost:8080/",
          "height": 224
        },
        "outputId": "da6594b9-d610-444f-c88d-1de56f7801dd"
      },
      "source": [
        "df.head()"
      ],
      "execution_count": 1034,
      "outputs": [
        {
          "output_type": "execute_result",
          "data": {
            "text/html": [
              "<div>\n",
              "<style scoped>\n",
              "    .dataframe tbody tr th:only-of-type {\n",
              "        vertical-align: middle;\n",
              "    }\n",
              "\n",
              "    .dataframe tbody tr th {\n",
              "        vertical-align: top;\n",
              "    }\n",
              "\n",
              "    .dataframe thead th {\n",
              "        text-align: right;\n",
              "    }\n",
              "</style>\n",
              "<table border=\"1\" class=\"dataframe\">\n",
              "  <thead>\n",
              "    <tr style=\"text-align: right;\">\n",
              "      <th></th>\n",
              "      <th>date</th>\n",
              "      <th>cumulativecases_specimen</th>\n",
              "      <th>dailycases_specimen</th>\n",
              "      <th>cumulativedeaths_date</th>\n",
              "      <th>dailydeaths_date</th>\n",
              "      <th>dailypcr_specimen</th>\n",
              "      <th>cumulativepcr_specimen</th>\n",
              "      <th>dailysero_specimen</th>\n",
              "      <th>cumulativesero_specimen</th>\n",
              "      <th>hospital_cases</th>\n",
              "      <th>icu_cases</th>\n",
              "      <th>snf_cases</th>\n",
              "      <th>inmate_cases</th>\n",
              "      <th>peh_cases</th>\n",
              "      <th>snf_dths</th>\n",
              "      <th>inmate_dths</th>\n",
              "      <th>peh_dths</th>\n",
              "      <th>OBJECTID</th>\n",
              "    </tr>\n",
              "  </thead>\n",
              "  <tbody>\n",
              "    <tr>\n",
              "      <th>0</th>\n",
              "      <td>1/22/2020</td>\n",
              "      <td>1.0</td>\n",
              "      <td>1.0</td>\n",
              "      <td>0.0</td>\n",
              "      <td>0.0</td>\n",
              "      <td>0.0</td>\n",
              "      <td>0.0</td>\n",
              "      <td>0.0</td>\n",
              "      <td>0.0</td>\n",
              "      <td>0.0</td>\n",
              "      <td>0.0</td>\n",
              "      <td>0.0</td>\n",
              "      <td>0.0</td>\n",
              "      <td>0.0</td>\n",
              "      <td>0.0</td>\n",
              "      <td>0.0</td>\n",
              "      <td>0.0</td>\n",
              "      <td>0</td>\n",
              "    </tr>\n",
              "    <tr>\n",
              "      <th>1</th>\n",
              "      <td>1/23/2020</td>\n",
              "      <td>1.0</td>\n",
              "      <td>0.0</td>\n",
              "      <td>NaN</td>\n",
              "      <td>NaN</td>\n",
              "      <td>NaN</td>\n",
              "      <td>NaN</td>\n",
              "      <td>NaN</td>\n",
              "      <td>NaN</td>\n",
              "      <td>NaN</td>\n",
              "      <td>NaN</td>\n",
              "      <td>NaN</td>\n",
              "      <td>NaN</td>\n",
              "      <td>NaN</td>\n",
              "      <td>NaN</td>\n",
              "      <td>NaN</td>\n",
              "      <td>NaN</td>\n",
              "      <td>1</td>\n",
              "    </tr>\n",
              "    <tr>\n",
              "      <th>2</th>\n",
              "      <td>1/24/2020</td>\n",
              "      <td>1.0</td>\n",
              "      <td>0.0</td>\n",
              "      <td>NaN</td>\n",
              "      <td>NaN</td>\n",
              "      <td>NaN</td>\n",
              "      <td>NaN</td>\n",
              "      <td>NaN</td>\n",
              "      <td>NaN</td>\n",
              "      <td>NaN</td>\n",
              "      <td>NaN</td>\n",
              "      <td>NaN</td>\n",
              "      <td>NaN</td>\n",
              "      <td>NaN</td>\n",
              "      <td>NaN</td>\n",
              "      <td>NaN</td>\n",
              "      <td>NaN</td>\n",
              "      <td>2</td>\n",
              "    </tr>\n",
              "    <tr>\n",
              "      <th>3</th>\n",
              "      <td>1/25/2020</td>\n",
              "      <td>1.0</td>\n",
              "      <td>0.0</td>\n",
              "      <td>NaN</td>\n",
              "      <td>NaN</td>\n",
              "      <td>NaN</td>\n",
              "      <td>NaN</td>\n",
              "      <td>NaN</td>\n",
              "      <td>NaN</td>\n",
              "      <td>NaN</td>\n",
              "      <td>NaN</td>\n",
              "      <td>NaN</td>\n",
              "      <td>NaN</td>\n",
              "      <td>NaN</td>\n",
              "      <td>NaN</td>\n",
              "      <td>NaN</td>\n",
              "      <td>NaN</td>\n",
              "      <td>3</td>\n",
              "    </tr>\n",
              "    <tr>\n",
              "      <th>4</th>\n",
              "      <td>1/26/2020</td>\n",
              "      <td>1.0</td>\n",
              "      <td>0.0</td>\n",
              "      <td>NaN</td>\n",
              "      <td>NaN</td>\n",
              "      <td>NaN</td>\n",
              "      <td>NaN</td>\n",
              "      <td>NaN</td>\n",
              "      <td>NaN</td>\n",
              "      <td>NaN</td>\n",
              "      <td>NaN</td>\n",
              "      <td>NaN</td>\n",
              "      <td>NaN</td>\n",
              "      <td>NaN</td>\n",
              "      <td>NaN</td>\n",
              "      <td>NaN</td>\n",
              "      <td>NaN</td>\n",
              "      <td>4</td>\n",
              "    </tr>\n",
              "  </tbody>\n",
              "</table>\n",
              "</div>"
            ],
            "text/plain": [
              "        date  cumulativecases_specimen  ...  peh_dths  OBJECTID\n",
              "0  1/22/2020                       1.0  ...       0.0         0\n",
              "1  1/23/2020                       1.0  ...       NaN         1\n",
              "2  1/24/2020                       1.0  ...       NaN         2\n",
              "3  1/25/2020                       1.0  ...       NaN         3\n",
              "4  1/26/2020                       1.0  ...       NaN         4\n",
              "\n",
              "[5 rows x 18 columns]"
            ]
          },
          "metadata": {
            "tags": []
          },
          "execution_count": 1034
        }
      ]
    },
    {
      "cell_type": "code",
      "metadata": {
        "id": "auXA6ifwpL0c",
        "colab_type": "code",
        "colab": {
          "base_uri": "https://localhost:8080/",
          "height": 224
        },
        "outputId": "833c10e1-ee31-46b0-bb3d-ee939a3b3824"
      },
      "source": [
        "df.tail()"
      ],
      "execution_count": 1035,
      "outputs": [
        {
          "output_type": "execute_result",
          "data": {
            "text/html": [
              "<div>\n",
              "<style scoped>\n",
              "    .dataframe tbody tr th:only-of-type {\n",
              "        vertical-align: middle;\n",
              "    }\n",
              "\n",
              "    .dataframe tbody tr th {\n",
              "        vertical-align: top;\n",
              "    }\n",
              "\n",
              "    .dataframe thead th {\n",
              "        text-align: right;\n",
              "    }\n",
              "</style>\n",
              "<table border=\"1\" class=\"dataframe\">\n",
              "  <thead>\n",
              "    <tr style=\"text-align: right;\">\n",
              "      <th></th>\n",
              "      <th>date</th>\n",
              "      <th>cumulativecases_specimen</th>\n",
              "      <th>dailycases_specimen</th>\n",
              "      <th>cumulativedeaths_date</th>\n",
              "      <th>dailydeaths_date</th>\n",
              "      <th>dailypcr_specimen</th>\n",
              "      <th>cumulativepcr_specimen</th>\n",
              "      <th>dailysero_specimen</th>\n",
              "      <th>cumulativesero_specimen</th>\n",
              "      <th>hospital_cases</th>\n",
              "      <th>icu_cases</th>\n",
              "      <th>snf_cases</th>\n",
              "      <th>inmate_cases</th>\n",
              "      <th>peh_cases</th>\n",
              "      <th>snf_dths</th>\n",
              "      <th>inmate_dths</th>\n",
              "      <th>peh_dths</th>\n",
              "      <th>OBJECTID</th>\n",
              "    </tr>\n",
              "  </thead>\n",
              "  <tbody>\n",
              "    <tr>\n",
              "      <th>185</th>\n",
              "      <td>7/25/2020</td>\n",
              "      <td>35037.0</td>\n",
              "      <td>124.0</td>\n",
              "      <td>586.0</td>\n",
              "      <td>0.0</td>\n",
              "      <td>2199.0</td>\n",
              "      <td>402071.0</td>\n",
              "      <td>1.0</td>\n",
              "      <td>50874.0</td>\n",
              "      <td>687.0</td>\n",
              "      <td>201.0</td>\n",
              "      <td>1516.0</td>\n",
              "      <td>464.0</td>\n",
              "      <td>130.0</td>\n",
              "      <td>247.0</td>\n",
              "      <td>0.0</td>\n",
              "      <td>1.0</td>\n",
              "      <td>185</td>\n",
              "    </tr>\n",
              "    <tr>\n",
              "      <th>186</th>\n",
              "      <td>7/26/2020</td>\n",
              "      <td>35084.0</td>\n",
              "      <td>47.0</td>\n",
              "      <td>587.0</td>\n",
              "      <td>1.0</td>\n",
              "      <td>1754.0</td>\n",
              "      <td>403825.0</td>\n",
              "      <td>5.0</td>\n",
              "      <td>50879.0</td>\n",
              "      <td>661.0</td>\n",
              "      <td>204.0</td>\n",
              "      <td>1516.0</td>\n",
              "      <td>464.0</td>\n",
              "      <td>130.0</td>\n",
              "      <td>248.0</td>\n",
              "      <td>0.0</td>\n",
              "      <td>1.0</td>\n",
              "      <td>186</td>\n",
              "    </tr>\n",
              "    <tr>\n",
              "      <th>187</th>\n",
              "      <td>7/27/2020</td>\n",
              "      <td>35108.0</td>\n",
              "      <td>24.0</td>\n",
              "      <td>NaN</td>\n",
              "      <td>NaN</td>\n",
              "      <td>847.0</td>\n",
              "      <td>404672.0</td>\n",
              "      <td>2.0</td>\n",
              "      <td>50881.0</td>\n",
              "      <td>640.0</td>\n",
              "      <td>203.0</td>\n",
              "      <td>1516.0</td>\n",
              "      <td>465.0</td>\n",
              "      <td>130.0</td>\n",
              "      <td>248.0</td>\n",
              "      <td>0.0</td>\n",
              "      <td>1.0</td>\n",
              "      <td>187</td>\n",
              "    </tr>\n",
              "    <tr>\n",
              "      <th>188</th>\n",
              "      <td>7/28/2020</td>\n",
              "      <td>NaN</td>\n",
              "      <td>NaN</td>\n",
              "      <td>NaN</td>\n",
              "      <td>NaN</td>\n",
              "      <td>118.0</td>\n",
              "      <td>404790.0</td>\n",
              "      <td>1.0</td>\n",
              "      <td>50882.0</td>\n",
              "      <td>626.0</td>\n",
              "      <td>204.0</td>\n",
              "      <td>1556.0</td>\n",
              "      <td>465.0</td>\n",
              "      <td>136.0</td>\n",
              "      <td>253.0</td>\n",
              "      <td>0.0</td>\n",
              "      <td>1.0</td>\n",
              "      <td>188</td>\n",
              "    </tr>\n",
              "    <tr>\n",
              "      <th>189</th>\n",
              "      <td>7/29/2020</td>\n",
              "      <td>NaN</td>\n",
              "      <td>NaN</td>\n",
              "      <td>NaN</td>\n",
              "      <td>NaN</td>\n",
              "      <td>NaN</td>\n",
              "      <td>NaN</td>\n",
              "      <td>NaN</td>\n",
              "      <td>NaN</td>\n",
              "      <td>NaN</td>\n",
              "      <td>NaN</td>\n",
              "      <td>1564.0</td>\n",
              "      <td>472.0</td>\n",
              "      <td>136.0</td>\n",
              "      <td>255.0</td>\n",
              "      <td>0.0</td>\n",
              "      <td>1.0</td>\n",
              "      <td>189</td>\n",
              "    </tr>\n",
              "  </tbody>\n",
              "</table>\n",
              "</div>"
            ],
            "text/plain": [
              "          date  cumulativecases_specimen  ...  peh_dths  OBJECTID\n",
              "185  7/25/2020                   35037.0  ...       1.0       185\n",
              "186  7/26/2020                   35084.0  ...       1.0       186\n",
              "187  7/27/2020                   35108.0  ...       1.0       187\n",
              "188  7/28/2020                       NaN  ...       1.0       188\n",
              "189  7/29/2020                       NaN  ...       1.0       189\n",
              "\n",
              "[5 rows x 18 columns]"
            ]
          },
          "metadata": {
            "tags": []
          },
          "execution_count": 1035
        }
      ]
    },
    {
      "cell_type": "code",
      "metadata": {
        "id": "O_GlauDNsmIe",
        "colab_type": "code",
        "colab": {}
      },
      "source": [
        "def removeNaN(df):\n",
        "  for i in range(len(df)):\n",
        "    if str(df[i]) == 'nan':\n",
        "      df.pop(i)\n",
        "  return df"
      ],
      "execution_count": 1036,
      "outputs": []
    },
    {
      "cell_type": "code",
      "metadata": {
        "id": "g7SH5EYGuUPr",
        "colab_type": "code",
        "colab": {
          "base_uri": "https://localhost:8080/",
          "height": 34
        },
        "outputId": "d7818d59-35f0-479b-936c-cdcc8820b55a"
      },
      "source": [
        "df1 = removeNaN(df.reset_index()['dailycases_specimen'])#removing  NaN(not numbers) elements\n",
        "\n",
        "df1.shape"
      ],
      "execution_count": 1037,
      "outputs": [
        {
          "output_type": "execute_result",
          "data": {
            "text/plain": [
              "(188,)"
            ]
          },
          "metadata": {
            "tags": []
          },
          "execution_count": 1037
        }
      ]
    },
    {
      "cell_type": "code",
      "metadata": {
        "id": "E7QK9xbKA-qO",
        "colab_type": "code",
        "colab": {
          "base_uri": "https://localhost:8080/",
          "height": 221
        },
        "outputId": "76e49c47-9aee-40e3-83a3-341ffe9fb92e"
      },
      "source": [
        "df1"
      ],
      "execution_count": 1038,
      "outputs": [
        {
          "output_type": "execute_result",
          "data": {
            "text/plain": [
              "0        1.0\n",
              "1        0.0\n",
              "2        0.0\n",
              "3        0.0\n",
              "4        0.0\n",
              "       ...  \n",
              "183    149.0\n",
              "184    126.0\n",
              "185    124.0\n",
              "186     47.0\n",
              "187     24.0\n",
              "Name: dailycases_specimen, Length: 188, dtype: float64"
            ]
          },
          "metadata": {
            "tags": []
          },
          "execution_count": 1038
        }
      ]
    },
    {
      "cell_type": "code",
      "metadata": {
        "id": "qt5yt7rz2n7f",
        "colab_type": "code",
        "colab": {
          "base_uri": "https://localhost:8080/",
          "height": 221
        },
        "outputId": "8fbd5bc0-aeee-4c9a-cae2-deb5a60bcb50"
      },
      "source": [
        "df['dailycases_specimen']"
      ],
      "execution_count": 1039,
      "outputs": [
        {
          "output_type": "execute_result",
          "data": {
            "text/plain": [
              "0        1.0\n",
              "1        0.0\n",
              "2        0.0\n",
              "3        0.0\n",
              "4        0.0\n",
              "       ...  \n",
              "185    124.0\n",
              "186     47.0\n",
              "187     24.0\n",
              "188      NaN\n",
              "189      NaN\n",
              "Name: dailycases_specimen, Length: 190, dtype: float64"
            ]
          },
          "metadata": {
            "tags": []
          },
          "execution_count": 1039
        }
      ]
    },
    {
      "cell_type": "code",
      "metadata": {
        "id": "btxJNx4CvvyF",
        "colab_type": "code",
        "colab": {}
      },
      "source": [
        "import matplotlib.pyplot as plt\n"
      ],
      "execution_count": 1040,
      "outputs": []
    },
    {
      "cell_type": "code",
      "metadata": {
        "id": "0vKvHkn1veWy",
        "colab_type": "code",
        "colab": {
          "base_uri": "https://localhost:8080/",
          "height": 282
        },
        "outputId": "485a1025-55fb-488f-f413-2d55e9e27719"
      },
      "source": [
        "plt.plot(df1)"
      ],
      "execution_count": 1041,
      "outputs": [
        {
          "output_type": "execute_result",
          "data": {
            "text/plain": [
              "[<matplotlib.lines.Line2D at 0x7fdfc5720fd0>]"
            ]
          },
          "metadata": {
            "tags": []
          },
          "execution_count": 1041
        },
        {
          "output_type": "display_data",
          "data": {
            "image/png": "[encoded data removed]",
            "text/plain": [
              "<Figure size 432x288 with 1 Axes>"
            ]
          },
          "metadata": {
            "tags": [],
            "needs_background": "light"
          }
        }
      ]
    },
    {
      "cell_type": "code",
      "metadata": {
        "id": "Znmx-blOvz3B",
        "colab_type": "code",
        "colab": {}
      },
      "source": [
        "import numpy as np\n",
        "from sklearn.preprocessing import MinMaxScaler"
      ],
      "execution_count": 1042,
      "outputs": []
    },
    {
      "cell_type": "code",
      "metadata": {
        "id": "VoBisreZv6PK",
        "colab_type": "code",
        "colab": {
          "base_uri": "https://localhost:8080/",
          "height": 1000
        },
        "outputId": "17d584f6-0d7f-481d-d508-9c2e3045a8c4"
      },
      "source": [
        "scaler = MinMaxScaler(feature_range=(0,1))\n",
        "df1 =scaler.fit_transform(np.array(df1).reshape(-1,1))\n",
        "\n",
        "df1"
      ],
      "execution_count": 1043,
      "outputs": [
        {
          "output_type": "execute_result",
          "data": {
            "text/plain": [
              "array([[0.00101937],\n",
              "       [0.        ],\n",
              "       [0.        ],\n",
              "       [0.        ],\n",
              "       [0.        ],\n",
              "       [0.        ],\n",
              "       [0.        ],\n",
              "       [0.        ],\n",
              "       [0.        ],\n",
              "       [0.        ],\n",
              "       [0.        ],\n",
              "       [0.        ],\n",
              "       [0.        ],\n",
              "       [0.        ],\n",
              "       [0.        ],\n",
              "       [0.00101937],\n",
              "       [0.        ],\n",
              "       [0.        ],\n",
              "       [0.        ],\n",
              "       [0.        ],\n",
              "       [0.        ],\n",
              "       [0.        ],\n",
              "       [0.        ],\n",
              "       [0.        ],\n",
              "       [0.        ],\n",
              "       [0.        ],\n",
              "       [0.        ],\n",
              "       [0.        ],\n",
              "       [0.        ],\n",
              "       [0.        ],\n",
              "       [0.        ],\n",
              "       [0.        ],\n",
              "       [0.        ],\n",
              "       [0.        ],\n",
              "       [0.        ],\n",
              "       [0.        ],\n",
              "       [0.        ],\n",
              "       [0.        ],\n",
              "       [0.        ],\n",
              "       [0.        ],\n",
              "       [0.0030581 ],\n",
              "       [0.        ],\n",
              "       [0.00101937],\n",
              "       [0.        ],\n",
              "       [0.        ],\n",
              "       [0.01325178],\n",
              "       [0.00101937],\n",
              "       [0.00101937],\n",
              "       [0.00203874],\n",
              "       [0.00509684],\n",
              "       [0.01121305],\n",
              "       [0.02650357],\n",
              "       [0.01630989],\n",
              "       [0.01325178],\n",
              "       [0.03261978],\n",
              "       [0.04383282],\n",
              "       [0.03261978],\n",
              "       [0.05504587],\n",
              "       [0.05606524],\n",
              "       [0.02650357],\n",
              "       [0.02650357],\n",
              "       [0.06829766],\n",
              "       [0.07543323],\n",
              "       [0.06014271],\n",
              "       [0.06320082],\n",
              "       [0.05912334],\n",
              "       [0.05606524],\n",
              "       [0.03363914],\n",
              "       [0.06014271],\n",
              "       [0.08053007],\n",
              "       [0.0795107 ],\n",
              "       [0.05708461],\n",
              "       [0.06829766],\n",
              "       [0.03160041],\n",
              "       [0.03160041],\n",
              "       [0.0540265 ],\n",
              "       [0.05810398],\n",
              "       [0.06218145],\n",
              "       [0.04994903],\n",
              "       [0.0479103 ],\n",
              "       [0.02650357],\n",
              "       [0.01630989],\n",
              "       [0.06014271],\n",
              "       [0.0764526 ],\n",
              "       [0.10295617],\n",
              "       [0.07441386],\n",
              "       [0.07543323],\n",
              "       [0.04892966],\n",
              "       [0.02752294],\n",
              "       [0.07441386],\n",
              "       [0.07237513],\n",
              "       [0.14067278],\n",
              "       [0.09683996],\n",
              "       [0.09683996],\n",
              "       [0.06320082],\n",
              "       [0.04892966],\n",
              "       [0.14271152],\n",
              "       [0.17533129],\n",
              "       [0.13251784],\n",
              "       [0.13557594],\n",
              "       [0.12844037],\n",
              "       [0.06422018],\n",
              "       [0.06931702],\n",
              "       [0.17431193],\n",
              "       [0.14067278],\n",
              "       [0.19469929],\n",
              "       [0.19062181],\n",
              "       [0.20591233],\n",
              "       [0.10091743],\n",
              "       [0.0509684 ],\n",
              "       [0.16411825],\n",
              "       [0.1304791 ],\n",
              "       [0.16513761],\n",
              "       [0.13761468],\n",
              "       [0.17635066],\n",
              "       [0.12538226],\n",
              "       [0.05912334],\n",
              "       [0.21202854],\n",
              "       [0.17329256],\n",
              "       [0.23139653],\n",
              "       [0.19571865],\n",
              "       [0.17533129],\n",
              "       [0.1019368 ],\n",
              "       [0.08970438],\n",
              "       [0.08154944],\n",
              "       [0.2579001 ],\n",
              "       [0.22018349],\n",
              "       [0.254842  ],\n",
              "       [0.18042813],\n",
              "       [0.12232416],\n",
              "       [0.10907238],\n",
              "       [0.20285423],\n",
              "       [0.24260958],\n",
              "       [0.22426096],\n",
              "       [0.22629969],\n",
              "       [0.22222222],\n",
              "       [0.15698267],\n",
              "       [0.12028542],\n",
              "       [0.26707441],\n",
              "       [0.24362895],\n",
              "       [0.3058104 ],\n",
              "       [0.30784913],\n",
              "       [0.29051988],\n",
              "       [0.22222222],\n",
              "       [0.14475025],\n",
              "       [0.36697248],\n",
              "       [0.55147808],\n",
              "       [0.57798165],\n",
              "       [0.61875637],\n",
              "       [0.65341488],\n",
              "       [0.44342508],\n",
              "       [0.26605505],\n",
              "       [0.82568807],\n",
              "       [0.93272171],\n",
              "       [0.94699286],\n",
              "       [0.93068298],\n",
              "       [0.90621814],\n",
              "       [0.59734964],\n",
              "       [0.42405708],\n",
              "       [0.99388379],\n",
              "       [1.        ],\n",
              "       [0.8980632 ],\n",
              "       [0.87461774],\n",
              "       [0.72680938],\n",
              "       [0.37003058],\n",
              "       [0.39755352],\n",
              "       [0.98267074],\n",
              "       [0.98572885],\n",
              "       [0.93170234],\n",
              "       [0.872579  ],\n",
              "       [0.8695209 ],\n",
              "       [0.51172273],\n",
              "       [0.32619776],\n",
              "       [0.66258919],\n",
              "       [0.56574924],\n",
              "       [0.56778797],\n",
              "       [0.59531091],\n",
              "       [0.56574924],\n",
              "       [0.35372069],\n",
              "       [0.28134557],\n",
              "       [0.30275229],\n",
              "       [0.33843017],\n",
              "       [0.27726809],\n",
              "       [0.15188583],\n",
              "       [0.12844037],\n",
              "       [0.12640163],\n",
              "       [0.0479103 ],\n",
              "       [0.02446483]])"
            ]
          },
          "metadata": {
            "tags": []
          },
          "execution_count": 1043
        }
      ]
    },
    {
      "cell_type": "code",
      "metadata": {
        "id": "DtAKRMr1wSK8",
        "colab_type": "code",
        "colab": {
          "base_uri": "https://localhost:8080/",
          "height": 34
        },
        "outputId": "54c75ae8-78ee-4f50-dafa-03dd39e48b4c"
      },
      "source": [
        "df1.shape"
      ],
      "execution_count": 1044,
      "outputs": [
        {
          "output_type": "execute_result",
          "data": {
            "text/plain": [
              "(188, 1)"
            ]
          },
          "metadata": {
            "tags": []
          },
          "execution_count": 1044
        }
      ]
    },
    {
      "cell_type": "code",
      "metadata": {
        "id": "jZ2za-hcwUZw",
        "colab_type": "code",
        "colab": {}
      },
      "source": [
        "train_percent = 0.60# train_precent:1-train_percent train-test split  was 0.70\n",
        "\n",
        "training_size = int(len(df1)*train_percent)\n",
        "test_size = len(df1)-training_size\n",
        "\n",
        "train_data = df1[0:training_size,:]\n",
        "\n",
        "test_data = df1[training_size:,:1]"
      ],
      "execution_count": 1045,
      "outputs": []
    },
    {
      "cell_type": "code",
      "metadata": {
        "id": "wiXYx5xgw9M5",
        "colab_type": "code",
        "colab": {
          "base_uri": "https://localhost:8080/",
          "height": 34
        },
        "outputId": "e3921a7f-3160-4b85-ae43-f4894cf77dc2"
      },
      "source": [
        "training_size,test_size"
      ],
      "execution_count": 1046,
      "outputs": [
        {
          "output_type": "execute_result",
          "data": {
            "text/plain": [
              "(112, 76)"
            ]
          },
          "metadata": {
            "tags": []
          },
          "execution_count": 1046
        }
      ]
    },
    {
      "cell_type": "code",
      "metadata": {
        "id": "NVmzB7YuxCDt",
        "colab_type": "code",
        "colab": {
          "base_uri": "https://localhost:8080/",
          "height": 1000
        },
        "outputId": "285a75d0-b161-431c-fec6-c89b7f6f1b84"
      },
      "source": [
        "train_data"
      ],
      "execution_count": 1047,
      "outputs": [
        {
          "output_type": "execute_result",
          "data": {
            "text/plain": [
              "array([[0.00101937],\n",
              "       [0.        ],\n",
              "       [0.        ],\n",
              "       [0.        ],\n",
              "       [0.        ],\n",
              "       [0.        ],\n",
              "       [0.        ],\n",
              "       [0.        ],\n",
              "       [0.        ],\n",
              "       [0.        ],\n",
              "       [0.        ],\n",
              "       [0.        ],\n",
              "       [0.        ],\n",
              "       [0.        ],\n",
              "       [0.        ],\n",
              "       [0.00101937],\n",
              "       [0.        ],\n",
              "       [0.        ],\n",
              "       [0.        ],\n",
              "       [0.        ],\n",
              "       [0.        ],\n",
              "       [0.        ],\n",
              "       [0.        ],\n",
              "       [0.        ],\n",
              "       [0.        ],\n",
              "       [0.        ],\n",
              "       [0.        ],\n",
              "       [0.        ],\n",
              "       [0.        ],\n",
              "       [0.        ],\n",
              "       [0.        ],\n",
              "       [0.        ],\n",
              "       [0.        ],\n",
              "       [0.        ],\n",
              "       [0.        ],\n",
              "       [0.        ],\n",
              "       [0.        ],\n",
              "       [0.        ],\n",
              "       [0.        ],\n",
              "       [0.        ],\n",
              "       [0.0030581 ],\n",
              "       [0.        ],\n",
              "       [0.00101937],\n",
              "       [0.        ],\n",
              "       [0.        ],\n",
              "       [0.01325178],\n",
              "       [0.00101937],\n",
              "       [0.00101937],\n",
              "       [0.00203874],\n",
              "       [0.00509684],\n",
              "       [0.01121305],\n",
              "       [0.02650357],\n",
              "       [0.01630989],\n",
              "       [0.01325178],\n",
              "       [0.03261978],\n",
              "       [0.04383282],\n",
              "       [0.03261978],\n",
              "       [0.05504587],\n",
              "       [0.05606524],\n",
              "       [0.02650357],\n",
              "       [0.02650357],\n",
              "       [0.06829766],\n",
              "       [0.07543323],\n",
              "       [0.06014271],\n",
              "       [0.06320082],\n",
              "       [0.05912334],\n",
              "       [0.05606524],\n",
              "       [0.03363914],\n",
              "       [0.06014271],\n",
              "       [0.08053007],\n",
              "       [0.0795107 ],\n",
              "       [0.05708461],\n",
              "       [0.06829766],\n",
              "       [0.03160041],\n",
              "       [0.03160041],\n",
              "       [0.0540265 ],\n",
              "       [0.05810398],\n",
              "       [0.06218145],\n",
              "       [0.04994903],\n",
              "       [0.0479103 ],\n",
              "       [0.02650357],\n",
              "       [0.01630989],\n",
              "       [0.06014271],\n",
              "       [0.0764526 ],\n",
              "       [0.10295617],\n",
              "       [0.07441386],\n",
              "       [0.07543323],\n",
              "       [0.04892966],\n",
              "       [0.02752294],\n",
              "       [0.07441386],\n",
              "       [0.07237513],\n",
              "       [0.14067278],\n",
              "       [0.09683996],\n",
              "       [0.09683996],\n",
              "       [0.06320082],\n",
              "       [0.04892966],\n",
              "       [0.14271152],\n",
              "       [0.17533129],\n",
              "       [0.13251784],\n",
              "       [0.13557594],\n",
              "       [0.12844037],\n",
              "       [0.06422018],\n",
              "       [0.06931702],\n",
              "       [0.17431193],\n",
              "       [0.14067278],\n",
              "       [0.19469929],\n",
              "       [0.19062181],\n",
              "       [0.20591233],\n",
              "       [0.10091743],\n",
              "       [0.0509684 ],\n",
              "       [0.16411825],\n",
              "       [0.1304791 ]])"
            ]
          },
          "metadata": {
            "tags": []
          },
          "execution_count": 1047
        }
      ]
    },
    {
      "cell_type": "code",
      "metadata": {
        "id": "l_FIeVLgxE8q",
        "colab_type": "code",
        "colab": {
          "base_uri": "https://localhost:8080/",
          "height": 1000
        },
        "outputId": "99860ffb-40a5-49c8-f7a8-feaee42f3c42"
      },
      "source": [
        "test_data"
      ],
      "execution_count": 1048,
      "outputs": [
        {
          "output_type": "execute_result",
          "data": {
            "text/plain": [
              "array([[0.16513761],\n",
              "       [0.13761468],\n",
              "       [0.17635066],\n",
              "       [0.12538226],\n",
              "       [0.05912334],\n",
              "       [0.21202854],\n",
              "       [0.17329256],\n",
              "       [0.23139653],\n",
              "       [0.19571865],\n",
              "       [0.17533129],\n",
              "       [0.1019368 ],\n",
              "       [0.08970438],\n",
              "       [0.08154944],\n",
              "       [0.2579001 ],\n",
              "       [0.22018349],\n",
              "       [0.254842  ],\n",
              "       [0.18042813],\n",
              "       [0.12232416],\n",
              "       [0.10907238],\n",
              "       [0.20285423],\n",
              "       [0.24260958],\n",
              "       [0.22426096],\n",
              "       [0.22629969],\n",
              "       [0.22222222],\n",
              "       [0.15698267],\n",
              "       [0.12028542],\n",
              "       [0.26707441],\n",
              "       [0.24362895],\n",
              "       [0.3058104 ],\n",
              "       [0.30784913],\n",
              "       [0.29051988],\n",
              "       [0.22222222],\n",
              "       [0.14475025],\n",
              "       [0.36697248],\n",
              "       [0.55147808],\n",
              "       [0.57798165],\n",
              "       [0.61875637],\n",
              "       [0.65341488],\n",
              "       [0.44342508],\n",
              "       [0.26605505],\n",
              "       [0.82568807],\n",
              "       [0.93272171],\n",
              "       [0.94699286],\n",
              "       [0.93068298],\n",
              "       [0.90621814],\n",
              "       [0.59734964],\n",
              "       [0.42405708],\n",
              "       [0.99388379],\n",
              "       [1.        ],\n",
              "       [0.8980632 ],\n",
              "       [0.87461774],\n",
              "       [0.72680938],\n",
              "       [0.37003058],\n",
              "       [0.39755352],\n",
              "       [0.98267074],\n",
              "       [0.98572885],\n",
              "       [0.93170234],\n",
              "       [0.872579  ],\n",
              "       [0.8695209 ],\n",
              "       [0.51172273],\n",
              "       [0.32619776],\n",
              "       [0.66258919],\n",
              "       [0.56574924],\n",
              "       [0.56778797],\n",
              "       [0.59531091],\n",
              "       [0.56574924],\n",
              "       [0.35372069],\n",
              "       [0.28134557],\n",
              "       [0.30275229],\n",
              "       [0.33843017],\n",
              "       [0.27726809],\n",
              "       [0.15188583],\n",
              "       [0.12844037],\n",
              "       [0.12640163],\n",
              "       [0.0479103 ],\n",
              "       [0.02446483]])"
            ]
          },
          "metadata": {
            "tags": []
          },
          "execution_count": 1048
        }
      ]
    },
    {
      "cell_type": "code",
      "metadata": {
        "id": "BfDIzNHmxHOp",
        "colab_type": "code",
        "colab": {}
      },
      "source": [
        "def create_dataset(dataset,time_step=1):\n",
        "  dataX,dataY = [], []\n",
        "\n",
        "  for i in range(len(dataset)-time_step-1):\n",
        "    a = dataset[i:(i+time_step),0]\n",
        "    dataX.append(a)\n",
        "    dataY.append(dataset[i+time_step,0])\n",
        "  return np.array(dataX),np.array(dataY)"
      ],
      "execution_count": 1049,
      "outputs": []
    },
    {
      "cell_type": "code",
      "metadata": {
        "id": "PuY11jx76Cy2",
        "colab_type": "code",
        "colab": {}
      },
      "source": [
        "time_step = 2# was 2\n",
        "\n",
        "X_train,y_train = create_dataset(train_data,time_step)\n",
        "\n",
        "X_test,y_test = create_dataset(test_data,time_step)"
      ],
      "execution_count": 1050,
      "outputs": []
    },
    {
      "cell_type": "code",
      "metadata": {
        "id": "vMrH3W5H6E58",
        "colab_type": "code",
        "colab": {
          "base_uri": "https://localhost:8080/",
          "height": 34
        },
        "outputId": "56d42a9c-bb09-40c4-d519-59b5d5066719"
      },
      "source": [
        "X_train.shape"
      ],
      "execution_count": 1051,
      "outputs": [
        {
          "output_type": "execute_result",
          "data": {
            "text/plain": [
              "(109, 2)"
            ]
          },
          "metadata": {
            "tags": []
          },
          "execution_count": 1051
        }
      ]
    },
    {
      "cell_type": "code",
      "metadata": {
        "id": "kokdEiMs6G85",
        "colab_type": "code",
        "colab": {
          "base_uri": "https://localhost:8080/",
          "height": 34
        },
        "outputId": "d2b12581-5065-465c-f69c-2ea19f38fb26"
      },
      "source": [
        "X_test.shape"
      ],
      "execution_count": 1052,
      "outputs": [
        {
          "output_type": "execute_result",
          "data": {
            "text/plain": [
              "(73, 2)"
            ]
          },
          "metadata": {
            "tags": []
          },
          "execution_count": 1052
        }
      ]
    },
    {
      "cell_type": "code",
      "metadata": {
        "id": "MmKuFRtu6KwW",
        "colab_type": "code",
        "colab": {}
      },
      "source": [
        "#reshape input to be [samples,time steps,features], a requirement for LSTM\n",
        "X_train = X_train.reshape(X_train.shape[0],X_train.shape[1],1)\n",
        "\n",
        "X_test = X_test.reshape(X_test.shape[0],X_test.shape[1],1)"
      ],
      "execution_count": 1053,
      "outputs": []
    },
    {
      "cell_type": "code",
      "metadata": {
        "id": "sMXd7iD46x7d",
        "colab_type": "code",
        "colab": {}
      },
      "source": [
        "### Create the Stacked LSTM model\n",
        "from tensorflow.keras.models import Sequential\n",
        "from tensorflow.keras.layers import Dense\n",
        "from tensorflow.keras.layers import LSTM  \n"
      ],
      "execution_count": 1054,
      "outputs": []
    },
    {
      "cell_type": "code",
      "metadata": {
        "id": "PpiGvBWK62TP",
        "colab_type": "code",
        "colab": {}
      },
      "source": [
        "model=Sequential()\n",
        "model.add(LSTM(50,return_sequences=True,input_shape=(time_step,1)))\n",
        "model.add(LSTM(50,return_sequences=True))\n",
        "model.add(LSTM(50))\n",
        "model.add(Dense(1))\n",
        "model.compile(loss='mean_squared_error',optimizer='adam')"
      ],
      "execution_count": 1055,
      "outputs": []
    },
    {
      "cell_type": "code",
      "metadata": {
        "id": "_UT8PU2l7L45",
        "colab_type": "code",
        "colab": {
          "base_uri": "https://localhost:8080/",
          "height": 289
        },
        "outputId": "c0d48f3a-2bc2-46ea-a14a-fd69cac89840"
      },
      "source": [
        "model.summary()"
      ],
      "execution_count": 1056,
      "outputs": [
        {
          "output_type": "stream",
          "text": [
            "Model: \"sequential_20\"\n",
            "_________________________________________________________________\n",
            "Layer (type)                 Output Shape              Param #   \n",
            "=================================================================\n",
            "lstm_74 (LSTM)               (None, 2, 50)             10400     \n",
            "_________________________________________________________________\n",
            "lstm_75 (LSTM)               (None, 2, 50)             20200     \n",
            "_________________________________________________________________\n",
            "lstm_76 (LSTM)               (None, 50)                20200     \n",
            "_________________________________________________________________\n",
            "dense_19 (Dense)             (None, 1)                 51        \n",
            "=================================================================\n",
            "Total params: 50,851\n",
            "Trainable params: 50,851\n",
            "Non-trainable params: 0\n",
            "_________________________________________________________________\n"
          ],
          "name": "stdout"
        }
      ]
    },
    {
      "cell_type": "code",
      "metadata": {
        "id": "aE4iYKav7OKM",
        "colab_type": "code",
        "colab": {
          "base_uri": "https://localhost:8080/",
          "height": 1000
        },
        "outputId": "d7376d23-28de-4cd7-ccef-483ad0c53d7c"
      },
      "source": [
        "model.fit(X_train,y_train,validation_data=(X_test,y_test),epochs=100,batch_size=64,verbose=1)#batch size was 64 , epochs was 100"
      ],
      "execution_count": 1057,
      "outputs": [
        {
          "output_type": "stream",
          "text": [
            "Epoch 1/100\n",
            "2/2 [==============================] - 1s 648ms/step - loss: 0.0044 - val_loss: 0.2544\n",
            "Epoch 2/100\n",
            "2/2 [==============================] - 0s 31ms/step - loss: 0.0036 - val_loss: 0.2440\n",
            "Epoch 3/100\n",
            "2/2 [==============================] - 0s 29ms/step - loss: 0.0031 - val_loss: 0.2340\n",
            "Epoch 4/100\n",
            "2/2 [==============================] - 0s 31ms/step - loss: 0.0027 - val_loss: 0.2250\n",
            "Epoch 5/100\n",
            "2/2 [==============================] - 0s 30ms/step - loss: 0.0026 - val_loss: 0.2174\n",
            "Epoch 6/100\n",
            "2/2 [==============================] - 0s 31ms/step - loss: 0.0027 - val_loss: 0.2125\n",
            "Epoch 7/100\n",
            "2/2 [==============================] - 0s 33ms/step - loss: 0.0028 - val_loss: 0.2109\n",
            "Epoch 8/100\n",
            "2/2 [==============================] - 0s 29ms/step - loss: 0.0028 - val_loss: 0.2117\n",
            "Epoch 9/100\n",
            "2/2 [==============================] - 0s 31ms/step - loss: 0.0027 - val_loss: 0.2138\n",
            "Epoch 10/100\n",
            "2/2 [==============================] - 0s 36ms/step - loss: 0.0026 - val_loss: 0.2164\n",
            "Epoch 11/100\n",
            "2/2 [==============================] - 0s 33ms/step - loss: 0.0026 - val_loss: 0.2186\n",
            "Epoch 12/100\n",
            "2/2 [==============================] - 0s 34ms/step - loss: 0.0026 - val_loss: 0.2199\n",
            "Epoch 13/100\n",
            "2/2 [==============================] - 0s 28ms/step - loss: 0.0026 - val_loss: 0.2196\n",
            "Epoch 14/100\n",
            "2/2 [==============================] - 0s 40ms/step - loss: 0.0026 - val_loss: 0.2181\n",
            "Epoch 15/100\n",
            "2/2 [==============================] - 0s 30ms/step - loss: 0.0026 - val_loss: 0.2147\n",
            "Epoch 16/100\n",
            "2/2 [==============================] - 0s 31ms/step - loss: 0.0025 - val_loss: 0.2101\n",
            "Epoch 17/100\n",
            "2/2 [==============================] - 0s 42ms/step - loss: 0.0025 - val_loss: 0.2050\n",
            "Epoch 18/100\n",
            "2/2 [==============================] - 0s 32ms/step - loss: 0.0024 - val_loss: 0.2002\n",
            "Epoch 19/100\n",
            "2/2 [==============================] - 0s 28ms/step - loss: 0.0024 - val_loss: 0.1955\n",
            "Epoch 20/100\n",
            "2/2 [==============================] - 0s 29ms/step - loss: 0.0024 - val_loss: 0.1908\n",
            "Epoch 21/100\n",
            "2/2 [==============================] - 0s 32ms/step - loss: 0.0023 - val_loss: 0.1865\n",
            "Epoch 22/100\n",
            "2/2 [==============================] - 0s 33ms/step - loss: 0.0023 - val_loss: 0.1822\n",
            "Epoch 23/100\n",
            "2/2 [==============================] - 0s 33ms/step - loss: 0.0022 - val_loss: 0.1768\n",
            "Epoch 24/100\n",
            "2/2 [==============================] - 0s 34ms/step - loss: 0.0022 - val_loss: 0.1704\n",
            "Epoch 25/100\n",
            "2/2 [==============================] - 0s 31ms/step - loss: 0.0021 - val_loss: 0.1625\n",
            "Epoch 26/100\n",
            "2/2 [==============================] - 0s 39ms/step - loss: 0.0020 - val_loss: 0.1523\n",
            "Epoch 27/100\n",
            "2/2 [==============================] - 0s 30ms/step - loss: 0.0019 - val_loss: 0.1409\n",
            "Epoch 28/100\n",
            "2/2 [==============================] - 0s 28ms/step - loss: 0.0018 - val_loss: 0.1285\n",
            "Epoch 29/100\n",
            "2/2 [==============================] - 0s 32ms/step - loss: 0.0017 - val_loss: 0.1167\n",
            "Epoch 30/100\n",
            "2/2 [==============================] - 0s 35ms/step - loss: 0.0016 - val_loss: 0.1054\n",
            "Epoch 31/100\n",
            "2/2 [==============================] - 0s 28ms/step - loss: 0.0014 - val_loss: 0.0938\n",
            "Epoch 32/100\n",
            "2/2 [==============================] - 0s 34ms/step - loss: 0.0013 - val_loss: 0.0797\n",
            "Epoch 33/100\n",
            "2/2 [==============================] - 0s 32ms/step - loss: 0.0012 - val_loss: 0.0658\n",
            "Epoch 34/100\n",
            "2/2 [==============================] - 0s 33ms/step - loss: 0.0011 - val_loss: 0.0552\n",
            "Epoch 35/100\n",
            "2/2 [==============================] - 0s 30ms/step - loss: 9.9560e-04 - val_loss: 0.0481\n",
            "Epoch 36/100\n",
            "2/2 [==============================] - 0s 38ms/step - loss: 9.5450e-04 - val_loss: 0.0435\n",
            "Epoch 37/100\n",
            "2/2 [==============================] - 0s 32ms/step - loss: 9.1082e-04 - val_loss: 0.0402\n",
            "Epoch 38/100\n",
            "2/2 [==============================] - 0s 31ms/step - loss: 9.2728e-04 - val_loss: 0.0401\n",
            "Epoch 39/100\n",
            "2/2 [==============================] - 0s 30ms/step - loss: 9.5954e-04 - val_loss: 0.0409\n",
            "Epoch 40/100\n",
            "2/2 [==============================] - 0s 37ms/step - loss: 9.8482e-04 - val_loss: 0.0414\n",
            "Epoch 41/100\n",
            "2/2 [==============================] - 0s 30ms/step - loss: 0.0010 - val_loss: 0.0409\n",
            "Epoch 42/100\n",
            "2/2 [==============================] - 0s 33ms/step - loss: 9.7014e-04 - val_loss: 0.0402\n",
            "Epoch 43/100\n",
            "2/2 [==============================] - 0s 29ms/step - loss: 9.5138e-04 - val_loss: 0.0397\n",
            "Epoch 44/100\n",
            "2/2 [==============================] - 0s 30ms/step - loss: 9.3969e-04 - val_loss: 0.0401\n",
            "Epoch 45/100\n",
            "2/2 [==============================] - 0s 38ms/step - loss: 9.1621e-04 - val_loss: 0.0412\n",
            "Epoch 46/100\n",
            "2/2 [==============================] - 0s 39ms/step - loss: 9.1558e-04 - val_loss: 0.0420\n",
            "Epoch 47/100\n",
            "2/2 [==============================] - 0s 36ms/step - loss: 9.0164e-04 - val_loss: 0.0425\n",
            "Epoch 48/100\n",
            "2/2 [==============================] - 0s 33ms/step - loss: 9.1398e-04 - val_loss: 0.0433\n",
            "Epoch 49/100\n",
            "2/2 [==============================] - 0s 33ms/step - loss: 9.1406e-04 - val_loss: 0.0441\n",
            "Epoch 50/100\n",
            "2/2 [==============================] - 0s 30ms/step - loss: 9.0942e-04 - val_loss: 0.0448\n",
            "Epoch 51/100\n",
            "2/2 [==============================] - 0s 30ms/step - loss: 9.1830e-04 - val_loss: 0.0454\n",
            "Epoch 52/100\n",
            "2/2 [==============================] - 0s 38ms/step - loss: 9.2201e-04 - val_loss: 0.0446\n",
            "Epoch 53/100\n",
            "2/2 [==============================] - 0s 31ms/step - loss: 9.0160e-04 - val_loss: 0.0436\n",
            "Epoch 54/100\n",
            "2/2 [==============================] - 0s 35ms/step - loss: 9.4925e-04 - val_loss: 0.0427\n",
            "Epoch 55/100\n",
            "2/2 [==============================] - 0s 34ms/step - loss: 9.1838e-04 - val_loss: 0.0434\n",
            "Epoch 56/100\n",
            "2/2 [==============================] - 0s 26ms/step - loss: 8.9921e-04 - val_loss: 0.0436\n",
            "Epoch 57/100\n",
            "2/2 [==============================] - 0s 28ms/step - loss: 9.2766e-04 - val_loss: 0.0431\n",
            "Epoch 58/100\n",
            "2/2 [==============================] - 0s 27ms/step - loss: 9.0326e-04 - val_loss: 0.0422\n",
            "Epoch 59/100\n",
            "2/2 [==============================] - 0s 29ms/step - loss: 9.0912e-04 - val_loss: 0.0414\n",
            "Epoch 60/100\n",
            "2/2 [==============================] - 0s 26ms/step - loss: 9.1719e-04 - val_loss: 0.0418\n",
            "Epoch 61/100\n",
            "2/2 [==============================] - 0s 29ms/step - loss: 8.9467e-04 - val_loss: 0.0423\n",
            "Epoch 62/100\n",
            "2/2 [==============================] - 0s 28ms/step - loss: 9.0739e-04 - val_loss: 0.0426\n",
            "Epoch 63/100\n",
            "2/2 [==============================] - 0s 28ms/step - loss: 9.1100e-04 - val_loss: 0.0422\n",
            "Epoch 64/100\n",
            "2/2 [==============================] - 0s 35ms/step - loss: 9.3472e-04 - val_loss: 0.0414\n",
            "Epoch 65/100\n",
            "2/2 [==============================] - 0s 32ms/step - loss: 9.1728e-04 - val_loss: 0.0421\n",
            "Epoch 66/100\n",
            "2/2 [==============================] - 0s 27ms/step - loss: 9.1648e-04 - val_loss: 0.0434\n",
            "Epoch 67/100\n",
            "2/2 [==============================] - 0s 26ms/step - loss: 9.1142e-04 - val_loss: 0.0432\n",
            "Epoch 68/100\n",
            "2/2 [==============================] - 0s 25ms/step - loss: 8.9686e-04 - val_loss: 0.0429\n",
            "Epoch 69/100\n",
            "2/2 [==============================] - 0s 27ms/step - loss: 9.0033e-04 - val_loss: 0.0425\n",
            "Epoch 70/100\n",
            "2/2 [==============================] - 0s 27ms/step - loss: 9.0544e-04 - val_loss: 0.0429\n",
            "Epoch 71/100\n",
            "2/2 [==============================] - 0s 26ms/step - loss: 8.9038e-04 - val_loss: 0.0430\n",
            "Epoch 72/100\n",
            "2/2 [==============================] - 0s 26ms/step - loss: 8.8969e-04 - val_loss: 0.0431\n",
            "Epoch 73/100\n",
            "2/2 [==============================] - 0s 27ms/step - loss: 8.9801e-04 - val_loss: 0.0429\n",
            "Epoch 74/100\n",
            "2/2 [==============================] - 0s 36ms/step - loss: 8.8920e-04 - val_loss: 0.0423\n",
            "Epoch 75/100\n",
            "2/2 [==============================] - 0s 27ms/step - loss: 8.8937e-04 - val_loss: 0.0420\n",
            "Epoch 76/100\n",
            "2/2 [==============================] - 0s 29ms/step - loss: 8.9280e-04 - val_loss: 0.0420\n",
            "Epoch 77/100\n",
            "2/2 [==============================] - 0s 26ms/step - loss: 8.9907e-04 - val_loss: 0.0423\n",
            "Epoch 78/100\n",
            "2/2 [==============================] - 0s 31ms/step - loss: 8.8948e-04 - val_loss: 0.0421\n",
            "Epoch 79/100\n",
            "2/2 [==============================] - 0s 26ms/step - loss: 8.8503e-04 - val_loss: 0.0421\n",
            "Epoch 80/100\n",
            "2/2 [==============================] - 0s 28ms/step - loss: 8.8425e-04 - val_loss: 0.0421\n",
            "Epoch 81/100\n",
            "2/2 [==============================] - 0s 27ms/step - loss: 8.8835e-04 - val_loss: 0.0423\n",
            "Epoch 82/100\n",
            "2/2 [==============================] - 0s 26ms/step - loss: 8.9079e-04 - val_loss: 0.0421\n",
            "Epoch 83/100\n",
            "2/2 [==============================] - 0s 34ms/step - loss: 8.8432e-04 - val_loss: 0.0427\n",
            "Epoch 84/100\n",
            "2/2 [==============================] - 0s 25ms/step - loss: 8.8153e-04 - val_loss: 0.0430\n",
            "Epoch 85/100\n",
            "2/2 [==============================] - 0s 27ms/step - loss: 8.8783e-04 - val_loss: 0.0432\n",
            "Epoch 86/100\n",
            "2/2 [==============================] - 0s 30ms/step - loss: 8.8027e-04 - val_loss: 0.0429\n",
            "Epoch 87/100\n",
            "2/2 [==============================] - 0s 28ms/step - loss: 8.9023e-04 - val_loss: 0.0426\n",
            "Epoch 88/100\n",
            "2/2 [==============================] - 0s 28ms/step - loss: 8.8529e-04 - val_loss: 0.0431\n",
            "Epoch 89/100\n",
            "2/2 [==============================] - 0s 28ms/step - loss: 8.8087e-04 - val_loss: 0.0435\n",
            "Epoch 90/100\n",
            "2/2 [==============================] - 0s 26ms/step - loss: 8.8015e-04 - val_loss: 0.0439\n",
            "Epoch 91/100\n",
            "2/2 [==============================] - 0s 29ms/step - loss: 8.8965e-04 - val_loss: 0.0439\n",
            "Epoch 92/100\n",
            "2/2 [==============================] - 0s 28ms/step - loss: 8.9264e-04 - val_loss: 0.0435\n",
            "Epoch 93/100\n",
            "2/2 [==============================] - 0s 33ms/step - loss: 8.7878e-04 - val_loss: 0.0438\n",
            "Epoch 94/100\n",
            "2/2 [==============================] - 0s 32ms/step - loss: 8.7563e-04 - val_loss: 0.0436\n",
            "Epoch 95/100\n",
            "2/2 [==============================] - 0s 27ms/step - loss: 8.7500e-04 - val_loss: 0.0437\n",
            "Epoch 96/100\n",
            "2/2 [==============================] - 0s 29ms/step - loss: 8.7416e-04 - val_loss: 0.0436\n",
            "Epoch 97/100\n",
            "2/2 [==============================] - 0s 26ms/step - loss: 8.7906e-04 - val_loss: 0.0436\n",
            "Epoch 98/100\n",
            "2/2 [==============================] - 0s 37ms/step - loss: 8.7937e-04 - val_loss: 0.0430\n",
            "Epoch 99/100\n",
            "2/2 [==============================] - 0s 28ms/step - loss: 8.7705e-04 - val_loss: 0.0433\n",
            "Epoch 100/100\n",
            "2/2 [==============================] - 0s 27ms/step - loss: 8.7136e-04 - val_loss: 0.0432\n"
          ],
          "name": "stdout"
        },
        {
          "output_type": "execute_result",
          "data": {
            "text/plain": [
              "<tensorflow.python.keras.callbacks.History at 0x7fdfc54ade48>"
            ]
          },
          "metadata": {
            "tags": []
          },
          "execution_count": 1057
        }
      ]
    },
    {
      "cell_type": "markdown",
      "metadata": {
        "id": "oBAvFOsDApW_",
        "colab_type": "text"
      },
      "source": [
        "First our model was overfitting (training loss decreased while validation loss increased) However, validation loss began to decrease, which resulted in a better model)"
      ]
    },
    {
      "cell_type": "code",
      "metadata": {
        "id": "mU6NZ7fp7VEL",
        "colab_type": "code",
        "colab": {}
      },
      "source": [
        "train_predict = model.predict(X_train)#will give the corresponding predicted y_train values\n",
        "test_predict = model.predict(X_test)# will give the correspinding y_test values\n",
        "\n",
        "#we will need to compare these values with y_train and y_test to guage accuracy\n"
      ],
      "execution_count": 1058,
      "outputs": []
    },
    {
      "cell_type": "code",
      "metadata": {
        "id": "oAwcN-3r7Yxp",
        "colab_type": "code",
        "colab": {}
      },
      "source": [
        "#transforming back to original form (from a value b/w 0 and 1 to the actual number of daily cases)\n",
        "train_predict = scaler.inverse_transform(train_predict)\n",
        "test_predict = scaler.inverse_transform(test_predict)"
      ],
      "execution_count": 1059,
      "outputs": []
    },
    {
      "cell_type": "code",
      "metadata": {
        "id": "NFeWfwEB7aWM",
        "colab_type": "code",
        "colab": {}
      },
      "source": [
        "import math\n",
        "from sklearn.metrics import mean_squared_error"
      ],
      "execution_count": 1060,
      "outputs": []
    },
    {
      "cell_type": "code",
      "metadata": {
        "id": "cWUz91k_7hvm",
        "colab_type": "code",
        "colab": {
          "base_uri": "https://localhost:8080/",
          "height": 34
        },
        "outputId": "06eb0f0c-02fd-4a9c-8bf4-a1f3f49b92e2"
      },
      "source": [
        "math.sqrt(mean_squared_error(y_train,train_predict)) # was 78.33284474245686"
      ],
      "execution_count": 1061,
      "outputs": [
        {
          "output_type": "execute_result",
          "data": {
            "text/plain": [
              "59.0609861427583"
            ]
          },
          "metadata": {
            "tags": []
          },
          "execution_count": 1061
        }
      ]
    },
    {
      "cell_type": "code",
      "metadata": {
        "id": "4sE1QHlU7pXV",
        "colab_type": "code",
        "colab": {
          "base_uri": "https://localhost:8080/",
          "height": 34
        },
        "outputId": "58aa8d9e-5109-40b7-bb37-a980759b6936"
      },
      "source": [
        "math.sqrt(mean_squared_error(y_test,test_predict)) # was 478.76947420348716"
      ],
      "execution_count": 1062,
      "outputs": [
        {
          "output_type": "execute_result",
          "data": {
            "text/plain": [
              "387.58379074629636"
            ]
          },
          "metadata": {
            "tags": []
          },
          "execution_count": 1062
        }
      ]
    },
    {
      "cell_type": "code",
      "metadata": {
        "id": "5tSzmPgm7u3c",
        "colab_type": "code",
        "colab": {
          "base_uri": "https://localhost:8080/",
          "height": 265
        },
        "outputId": "092a5d83-4db4-4e75-f9b4-01a039310b3f"
      },
      "source": [
        "##now plotting\n",
        "\n",
        "look_back = time_step  #basically our timestep--> we use the last time_step points to make  a prediction on the next data point\n",
        "\n",
        "#shift train predictions for plotting (orange)\n",
        "trainPredictPlot = np.empty_like(df1)\n",
        "trainPredictPlot[:,:] = np.nan\n",
        "trainPredictPlot[look_back:len(train_predict)+look_back,:] = train_predict\n",
        "\n",
        "#shift test predictions for plotting(green)\n",
        "testPredictPlot = np.empty_like(df1)\n",
        "testPredictPlot[:,:] = np.nan\n",
        "testPredictPlot[len(train_predict)+(look_back*2)+1:len( df1)-1,:] = test_predict\n",
        "\n",
        "#plot baseline and predictions\n",
        "\n",
        "plt.plot(scaler.inverse_transform(df1))#blue\n",
        "plt.plot(trainPredictPlot)#orange\n",
        "plt.plot(testPredictPlot)#green\n",
        "plt.show()\n"
      ],
      "execution_count": 1063,
      "outputs": [
        {
          "output_type": "display_data",
          "data": {
            "image/png": "[encoded data removed]",
            "text/plain": [
              "<Figure size 432x288 with 1 Axes>"
            ]
          },
          "metadata": {
            "tags": [],
            "needs_background": "light"
          }
        }
      ]
    },
    {
      "cell_type": "code",
      "metadata": {
        "id": "RyIWaXK-ccBo",
        "colab_type": "code",
        "colab": {}
      },
      "source": [
        "from numpy import array\n",
        "\n",
        "\n",
        "def makePrediction(days):\n",
        "  x_input = test_data[len(test_data)-time_step:].reshape(1,-1)\n",
        "  temp_input = list(x_input)\n",
        "  temp_input = temp_input[0].tolist()\n",
        "  output = []\n",
        "  for i in range(days):\n",
        "\n",
        "    if len(temp_input) > time_step:\n",
        "      x_input = np.array(temp_input[1:])\n",
        "      x_input = x_input.reshape(1,-1)\n",
        "      x_input = x_input.reshape((1,time_step,1))\n",
        "      yhat = model.predict(x_input,verbose=0)\n",
        "      temp_input.extend(yhat[0].tolist())\n",
        "      temp_input = temp_input[1:]\n",
        "      output.extend(yhat.tolist())\n",
        "    else:\n",
        "      x_input = x_input.reshape((1,time_step,1))\n",
        "      yhat = model.predict(x_input,verbose=0)\n",
        "      temp_input.extend(yhat[0].tolist())\n",
        "      output.extend(yhat.tolist())\n",
        " \n",
        "  return output\n",
        "\n"
      ],
      "execution_count": 1064,
      "outputs": []
    },
    {
      "cell_type": "code",
      "metadata": {
        "id": "MNnr1YHKe7Ch",
        "colab_type": "code",
        "colab": {}
      },
      "source": [
        "predictions  = makePrediction(30)\n",
        "\n",
        "day_new = np.arange(1,1+len(predictions))\n",
        "day_pred = np.arange(1+len(predictions),1+2*len(predictions))"
      ],
      "execution_count": 1065,
      "outputs": []
    },
    {
      "cell_type": "code",
      "metadata": {
        "id": "aQKylCi3f_e_",
        "colab_type": "code",
        "colab": {
          "base_uri": "https://localhost:8080/",
          "height": 34
        },
        "outputId": "ad2bbcfd-0b14-460c-998b-49c6bd253a14"
      },
      "source": [
        "len(df1)"
      ],
      "execution_count": 1066,
      "outputs": [
        {
          "output_type": "execute_result",
          "data": {
            "text/plain": [
              "188"
            ]
          },
          "metadata": {
            "tags": []
          },
          "execution_count": 1066
        }
      ]
    },
    {
      "cell_type": "code",
      "metadata": {
        "id": "iUJP55M9je_I",
        "colab_type": "code",
        "colab": {
          "base_uri": "https://localhost:8080/",
          "height": 282
        },
        "outputId": "5d57b63a-68af-4605-d36c-977f15102335"
      },
      "source": [
        "#plt.plot(day_new,scaler.inverse_transform(df1))\n",
        "#plt.plot(day_pred,scaler.inverse_transform(predictions))\n",
        "\n",
        "#this is without the predictions\n",
        "\n",
        "plt.plot(df1)\n",
        "\n"
      ],
      "execution_count": 1067,
      "outputs": [
        {
          "output_type": "execute_result",
          "data": {
            "text/plain": [
              "[<matplotlib.lines.Line2D at 0x7fdfc2e90240>]"
            ]
          },
          "metadata": {
            "tags": []
          },
          "execution_count": 1067
        },
        {
          "output_type": "display_data",
          "data": {
            "image/png": "[encoded data removed]",
            "text/plain": [
              "<Figure size 432x288 with 1 Axes>"
            ]
          },
          "metadata": {
            "tags": [],
            "needs_background": "light"
          }
        }
      ]
    },
    {
      "cell_type": "code",
      "metadata": {
        "id": "X9_h48TZj2Gk",
        "colab_type": "code",
        "colab": {
          "base_uri": "https://localhost:8080/",
          "height": 282
        },
        "outputId": "0c08a5ad-839c-4d63-9376-3157f6dac251"
      },
      "source": [
        "df2 = df1.tolist()\n",
        "df2.extend(predictions)\n",
        "plt.plot(df2)\n",
        "#this is with the predictions, so the model predicts that it will flatline \n"
      ],
      "execution_count": 1068,
      "outputs": [
        {
          "output_type": "execute_result",
          "data": {
            "text/plain": [
              "[<matplotlib.lines.Line2D at 0x7fdfc2e71128>]"
            ]
          },
          "metadata": {
            "tags": []
          },
          "execution_count": 1068
        },
        {
          "output_type": "display_data",
          "data": {
            "image/png": "[encoded data removed]",
            "text/plain": [
              "<Figure size 432x288 with 1 Axes>"
            ]
          },
          "metadata": {
            "tags": [],
            "needs_background": "light"
          }
        }
      ]
    },
    {
      "cell_type": "code",
      "metadata": {
        "id": "v6MQJfha5V97",
        "colab_type": "code",
        "colab": {
          "base_uri": "https://localhost:8080/",
          "height": 282
        },
        "outputId": "5fe6101d-b75b-483c-fe0c-c354e44ebe93"
      },
      "source": [
        "plt.plot(predictions)#this is the curve of the predictions zoomed in "
      ],
      "execution_count": 1069,
      "outputs": [
        {
          "output_type": "execute_result",
          "data": {
            "text/plain": [
              "[<matplotlib.lines.Line2D at 0x7fdfc2ebaa90>]"
            ]
          },
          "metadata": {
            "tags": []
          },
          "execution_count": 1069
        },
        {
          "output_type": "display_data",
          "data": {
            "image/png": "[encoded data removed]",
            "text/plain": [
              "<Figure size 432x288 with 1 Axes>"
            ]
          },
          "metadata": {
            "tags": [],
            "needs_background": "light"
          }
        }
      ]
    },
    {
      "cell_type": "code",
      "metadata": {
        "id": "3Rptg2MK8fib",
        "colab_type": "code",
        "colab": {
          "base_uri": "https://localhost:8080/",
          "height": 527
        },
        "outputId": "63e591b7-cc7d-4d7f-a4e0-ef368facce57"
      },
      "source": [
        "scaler.inverse_transform(predictions)"
      ],
      "execution_count": 1070,
      "outputs": [
        {
          "output_type": "execute_result",
          "data": {
            "text/plain": [
              "array([[42.42294558],\n",
              "       [33.56441021],\n",
              "       [42.22648644],\n",
              "       [39.23212   ],\n",
              "       [43.6115018 ],\n",
              "       [42.98452679],\n",
              "       [45.4319593 ],\n",
              "       [45.70596714],\n",
              "       [47.23818614],\n",
              "       [47.80699597],\n",
              "       [48.87081646],\n",
              "       [49.4911695 ],\n",
              "       [50.28907324],\n",
              "       [50.86956288],\n",
              "       [51.49824089],\n",
              "       [52.01007691],\n",
              "       [52.51965445],\n",
              "       [52.95900692],\n",
              "       [53.37840577],\n",
              "       [53.75067607],\n",
              "       [54.09860002],\n",
              "       [54.41201077],\n",
              "       [54.70179878],\n",
              "       [54.96478461],\n",
              "       [55.20661815],\n",
              "       [55.42691199],\n",
              "       [55.62891868],\n",
              "       [55.81328139],\n",
              "       [55.9820905 ],\n",
              "       [56.1362962 ]])"
            ]
          },
          "metadata": {
            "tags": []
          },
          "execution_count": 1070
        }
      ]
    },
    {
      "cell_type": "code",
      "metadata": {
        "id": "p6fmM9BL2Qfw",
        "colab_type": "code",
        "colab": {
          "base_uri": "https://localhost:8080/",
          "height": 612
        },
        "outputId": "12670434-84b3-42c8-b2e5-e1720db252dd"
      },
      "source": [
        "new_df = removeNaN(df.reset_index()['cumulativecases_specimen'])\n",
        "index = len(new_df) - 1\n",
        "for i in range(len(predictions)):\n",
        "  new_df[index + i + 1] = new_df[index] + scaler.inverse_transform(predictions)[i][0] \n",
        "\n",
        "new_df[184:]"
      ],
      "execution_count": 1071,
      "outputs": [
        {
          "output_type": "execute_result",
          "data": {
            "text/plain": [
              "184    34913.000000\n",
              "185    35037.000000\n",
              "186    35084.000000\n",
              "187    35108.000000\n",
              "188    35150.422946\n",
              "189    35141.564410\n",
              "190    35150.226486\n",
              "191    35147.232120\n",
              "192    35151.611502\n",
              "193    35150.984527\n",
              "194    35153.431959\n",
              "195    35153.705967\n",
              "196    35155.238186\n",
              "197    35155.806996\n",
              "198    35156.870816\n",
              "199    35157.491169\n",
              "200    35158.289073\n",
              "201    35158.869563\n",
              "202    35159.498241\n",
              "203    35160.010077\n",
              "204    35160.519654\n",
              "205    35160.959007\n",
              "206    35161.378406\n",
              "207    35161.750676\n",
              "208    35162.098600\n",
              "209    35162.412011\n",
              "210    35162.701799\n",
              "211    35162.964785\n",
              "212    35163.206618\n",
              "213    35163.426912\n",
              "214    35163.628919\n",
              "215    35163.813281\n",
              "216    35163.982091\n",
              "217    35164.136296\n",
              "Name: cumulativecases_specimen, dtype: float64"
            ]
          },
          "metadata": {
            "tags": []
          },
          "execution_count": 1071
        }
      ]
    },
    {
      "cell_type": "code",
      "metadata": {
        "id": "9W38fHhB6s2n",
        "colab_type": "code",
        "colab": {
          "base_uri": "https://localhost:8080/",
          "height": 282
        },
        "outputId": "6a618695-a3f4-47f2-e7d5-3719d29a2aea"
      },
      "source": [
        "plt.plot(df['cumulativecases_specimen']) # this is the current curve"
      ],
      "execution_count": 1072,
      "outputs": [
        {
          "output_type": "execute_result",
          "data": {
            "text/plain": [
              "[<matplotlib.lines.Line2D at 0x7fdfc2d334e0>]"
            ]
          },
          "metadata": {
            "tags": []
          },
          "execution_count": 1072
        },
        {
          "output_type": "display_data",
          "data": {
            "image/png": "[encoded data removed]",
            "text/plain": [
              "<Figure size 432x288 with 1 Axes>"
            ]
          },
          "metadata": {
            "tags": [],
            "needs_background": "light"
          }
        }
      ]
    },
    {
      "cell_type": "code",
      "metadata": {
        "id": "mvUfUEw68zLq",
        "colab_type": "code",
        "colab": {
          "base_uri": "https://localhost:8080/",
          "height": 282
        },
        "outputId": "552189d9-884c-4b77-8bb5-6d45af77bece"
      },
      "source": [
        "plt.plot(new_df) # this is the new curve with the prediction"
      ],
      "execution_count": 1073,
      "outputs": [
        {
          "output_type": "execute_result",
          "data": {
            "text/plain": [
              "[<matplotlib.lines.Line2D at 0x7fdfc2c98780>]"
            ]
          },
          "metadata": {
            "tags": []
          },
          "execution_count": 1073
        },
        {
          "output_type": "display_data",
          "data": {
            "image/png": "[encoded data removed]",
            "text/plain": [
              "<Figure size 432x288 with 1 Axes>"
            ]
          },
          "metadata": {
            "tags": [],
            "needs_background": "light"
          }
        }
      ]
    },
    {
      "cell_type": "code",
      "metadata": {
        "id": "jk79Jf8q72jU",
        "colab_type": "code",
        "colab": {}
      },
      "source": [
        ""
      ],
      "execution_count": 1073,
      "outputs": []
    },
    {
      "cell_type": "markdown",
      "metadata": {
        "id": "NFns8y6H7r1b",
        "colab_type": "text"
      },
      "source": [
        "The actual curve is flattening out just like we predicted with our prediction curve"
      ]
    }
  ]
}